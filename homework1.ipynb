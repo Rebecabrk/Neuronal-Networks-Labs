{
 "cells": [
  {
   "cell_type": "markdown",
   "metadata": {},
   "source": [
    "### **1. Parsing the System of Equations (1 point)**"
   ]
  },
  {
   "cell_type": "code",
   "execution_count": 15,
   "metadata": {},
   "outputs": [
    {
     "name": "stdout",
     "output_type": "stream",
     "text": [
      "A=[[2.0, 3.0, -1.0], [1.0, -1.0, 4.0], [3.0, 1.0, 2.0]] B=[5.0, 6.0, 7.0]\n"
     ]
    }
   ],
   "source": [
    "import pathlib\n",
    "\n",
    "def load_system(path: pathlib.Path) -> tuple[list[list[float]], list[float]]:\n",
    "    system = path.open()\n",
    "    A = []\n",
    "    B = []\n",
    "    for equation in system:\n",
    "        x,op1,y,op2,z,_,b = equation.split()\n",
    "        B.append(float(b))\n",
    "        \n",
    "        x1 = x.replace('x', '')\n",
    "        y = op1+y\n",
    "        y1 = y.replace('y', '')\n",
    "        z = op2+z\n",
    "        z1 = z.replace('z', '')\n",
    "        \n",
    "        match x1:\n",
    "            case '':\n",
    "                x = 1.0\n",
    "            case '-':\n",
    "                x = -1.0\n",
    "            case _:\n",
    "                x = float(x1)\n",
    "        match y1:\n",
    "            case '+':\n",
    "                y = 1.0\n",
    "            case '-':\n",
    "                y = -1.0\n",
    "            case _:\n",
    "                y = float(y1)\n",
    "        match z1:\n",
    "            case '+':\n",
    "                z = 1.0\n",
    "            case '-':\n",
    "                z = -1.0\n",
    "            case _:\n",
    "                z = float(z1)\n",
    "        A.append([x,y,z])\n",
    "                \n",
    "    return A,B    \n",
    "\n",
    "A, B = load_system(pathlib.Path(\"equations_input.txt\"))\n",
    "print(f\"{A=} {B=}\")"
   ]
  },
  {
   "cell_type": "code",
   "execution_count": 16,
   "metadata": {},
   "outputs": [
    {
     "name": "stdout",
     "output_type": "stream",
     "text": [
      "A=[[2.0, 3.0, -1], [1, -1, 4.0], [3.0, 1, 2.0]] B=[5.0, 6.0, 7.0]\n"
     ]
    }
   ],
   "source": [
    "import re\n",
    "\n",
    "def load_system_regex(path: pathlib.Path) -> tuple[list[list[float]], list[float]]:\n",
    "    file = path.open()\n",
    "    A = []\n",
    "    B = []\n",
    "    pattern = r'([+-]?\\d*)x\\s*([+-]?\\d*)y\\s*([+-]?\\d*)z\\s*=\\s*([+-]?\\d+)'\n",
    "    for equation in file:\n",
    "        match = re.match(pattern, equation.replace(\" \", \"\"))\n",
    "        if match:\n",
    "            if match.group(1) == '+' or match.group(1) == '':\n",
    "                coefficient_x = 1\n",
    "            elif match.group(1) == '-':\n",
    "                coefficient_x = -1\n",
    "            else:\n",
    "                coefficient_x = float(match.group(1))\n",
    "\n",
    "            if match.group(2) == '+' or match.group(2) == '':\n",
    "                coefficient_y = 1\n",
    "            elif match.group(2) == '-':\n",
    "                coefficient_y = -1\n",
    "            else:\n",
    "                coefficient_y = float(match.group(2))\n",
    "            \n",
    "            if match.group(3) == '+' or match.group(3) == '':\n",
    "                coefficient_z = 1\n",
    "            elif match.group(3) == '-':\n",
    "                coefficient_z = -1\n",
    "            else:\n",
    "                coefficient_z = float(match.group(3))\n",
    "\n",
    "            if match.group(4) == '+' or match.group(4) == '':\n",
    "                value = 1\n",
    "            elif match.group(4) == '-':\n",
    "                value = -1\n",
    "            else:\n",
    "                value = float(match.group(4))\n",
    "\n",
    "            A.append([coefficient_x, coefficient_y, coefficient_z])\n",
    "            B.append(value)\n",
    "    return A, B\n",
    "\n",
    "A, B = load_system_regex(pathlib.Path(\"equations_input.txt\"))\n",
    "print(f\"{A=} {B=}\")"
   ]
  },
  {
   "cell_type": "code",
   "execution_count": 17,
   "metadata": {},
   "outputs": [],
   "source": [
    "def load_system_1(path: pathlib.Path) -> tuple[list[list[float]], list[float]]:\n",
    "    i_index_A, j_index_A, index_B = 0, 0, 0\n",
    "    A, B = [[0, 0, 0], [0, 0, 0], [0, 0, 0]], [0, 0, 0]\n",
    "    \n",
    "    file = path.open()\n",
    "    for line in file:\n",
    "        for member in line.split():\n",
    "            if member == '+':\n",
    "                sign = False\n",
    "            elif member == '-':\n",
    "                sign = True\n",
    "            elif len(member) > 1: #membrul este de tip cifra*necunoscuta\n",
    "                if sign:\n",
    "                    A[i_index_A][j_index_A] = float(member[0])\n",
    "                    j_index_A = j_index_A + 1\n",
    "                else: \n",
    "                    A[i_index_A][j_index_A] = -float(member[0])\n",
    "                    j_index_A = j_index_A + 1\n",
    "            elif len(member) <= 1: #membrul este de tip cifra sau necunoscuta\n",
    "                if member not in {'x', 'y', 'z'} and member != '=': #membrul este cifra\n",
    "                    B[index_B] = float(member)\n",
    "                elif member != '=': #membrul este de tip semn necunoscuta\n",
    "                    if sign :\n",
    "                       A[i_index_A][j_index_A] = -1\n",
    "                       j_index_A = j_index_A + 1\n",
    "                    else:\n",
    "                       A[i_index_A][j_index_A] = 1  \n",
    "                       j_index_A = j_index_A + 1\n",
    "        i_index_A, index_B = i_index_A + 1, index_B + 1\n",
    "    return A, B"
   ]
  },
  {
   "cell_type": "markdown",
   "metadata": {},
   "source": [
    "### **2. Matrix and Vector Operations (5 points)**"
   ]
  },
  {
   "cell_type": "markdown",
   "metadata": {},
   "source": [
    "#### 2.1. Determinant"
   ]
  },
  {
   "cell_type": "code",
   "execution_count": 18,
   "metadata": {},
   "outputs": [
    {
     "name": "stdout",
     "output_type": "stream",
     "text": [
      "determinant(A)=14.0\n"
     ]
    }
   ],
   "source": [
    "def determinant(matrix: list[list[float]]) -> float:\n",
    "    if len(matrix) == 2 and len(matrix[0]) == 2:\n",
    "        return matrix[0][0] * matrix[1][1] - matrix[0][1] * matrix[1][0]\n",
    "    elif len(matrix) == 3 and len(matrix[0]) == 3:\n",
    "        return matrix[0][0] * (matrix[1][1] * matrix[2][2] - matrix[1][2] * matrix[2][1]) - matrix[0][1] * (matrix[1][0] * matrix[2][2] - matrix[1][2] * matrix[2][0]) + matrix[0][2] * (matrix[1][0] * matrix[2][1] - matrix[1][1] * matrix [2][0])\n",
    "\n",
    "print(f\"{determinant(A)=}\")"
   ]
  },
  {
   "cell_type": "markdown",
   "metadata": {},
   "source": [
    "#### 2.2. Trace"
   ]
  },
  {
   "cell_type": "code",
   "execution_count": 19,
   "metadata": {},
   "outputs": [
    {
     "name": "stdout",
     "output_type": "stream",
     "text": [
      "trace(A)=3.0\n"
     ]
    }
   ],
   "source": [
    "def trace(matrix: list[list[float]]) -> float:\n",
    "    return matrix[0][0] + matrix[1][1] + matrix[2][2]\n",
    "\n",
    "print(f\"{trace(A)=}\")"
   ]
  },
  {
   "cell_type": "markdown",
   "metadata": {},
   "source": [
    "#### 2.3. Vector norm"
   ]
  },
  {
   "cell_type": "code",
   "execution_count": 20,
   "metadata": {},
   "outputs": [
    {
     "name": "stdout",
     "output_type": "stream",
     "text": [
      "norm(B)=10.488088481701515\n"
     ]
    }
   ],
   "source": [
    "import math\n",
    "def norm(vector: list[float]) -> float:\n",
    "    return math.sqrt(vector[0] ** 2 + vector[1] ** 2 + vector[2] ** 2)\n",
    "\n",
    "print(f\"{norm(B)=}\")"
   ]
  },
  {
   "cell_type": "markdown",
   "metadata": {},
   "source": [
    "#### 2.4. Transpose of matrix"
   ]
  },
  {
   "cell_type": "code",
   "execution_count": 21,
   "metadata": {},
   "outputs": [
    {
     "name": "stdout",
     "output_type": "stream",
     "text": [
      "transpose(A)=[[2.0, 1, 3.0], [3.0, -1, 1], [-1, 4.0, 2.0]]\n"
     ]
    }
   ],
   "source": [
    "def transpose(matrix):\n",
    "\n",
    "    transposed_matrix = [[0] * 3 for _ in range(3)] #[[0, 0, 0], [0, 0, 0], [0, 0, 0]]\n",
    "    \n",
    "    for i in range(3):\n",
    "        for j in range(3):\n",
    "            transposed_matrix[j][i] = matrix[i][j]\n",
    "    return transposed_matrix\n",
    "\n",
    "\n",
    "print(f\"{transpose(A)=}\")"
   ]
  },
  {
   "cell_type": "markdown",
   "metadata": {},
   "source": [
    "#### 2.5. Matrix-vector multiplication"
   ]
  },
  {
   "cell_type": "code",
   "execution_count": 22,
   "metadata": {},
   "outputs": [
    {
     "name": "stdout",
     "output_type": "stream",
     "text": [
      "multiply(A, B)=[21.0, 27.0, 35.0]\n"
     ]
    }
   ],
   "source": [
    "def multiply(matrix: list[list[float]], vector: list[float]) -> list[float]:\n",
    "    result = [0, 0, 0]\n",
    "    \n",
    "    for line in range(0, 3):\n",
    "        for col in range(0, 3):\n",
    "            result[line] += matrix[line][col] * vector[col] \n",
    "    return result\n",
    "\n",
    "print(f\"{multiply(A, B)=}\")"
   ]
  },
  {
   "cell_type": "markdown",
   "metadata": {},
   "source": [
    "### **3. Solving using Cramer's Rule (1 point)**"
   ]
  },
  {
   "cell_type": "code",
   "execution_count": 23,
   "metadata": {},
   "outputs": [
    {
     "name": "stdout",
     "output_type": "stream",
     "text": [
      "solve_cramer(A, B)=[0.35714285714285715, 2.0714285714285716, 1.9285714285714286]\n"
     ]
    }
   ],
   "source": [
    "def solve_cramer(matrix: list[list[float]], vector: list[float]) -> list[float]:\n",
    "\n",
    "    Ax = [[B[i]] + row[1:] for i, row in enumerate(matrix)]\n",
    "    Ay = [[row[0]] + [B[i]] + [row[2]] for i, row in enumerate(matrix)]\n",
    "    Az = [row[:2] + [B[i]] for i, row in enumerate(matrix)]\n",
    "    return [determinant(Ax)/determinant(matrix), determinant(Ay)/determinant(matrix), determinant(Az)/determinant(matrix)]\n",
    "\n",
    "print(f\"{solve_cramer(A, B)=}\")"
   ]
  },
  {
   "cell_type": "markdown",
   "metadata": {},
   "source": [
    "### **4. Solving using Inversion (3 points)**"
   ]
  },
  {
   "cell_type": "code",
   "execution_count": 24,
   "metadata": {},
   "outputs": [
    {
     "name": "stdout",
     "output_type": "stream",
     "text": [
      "solve(A, B)=[0.35714285714285765, 2.071428571428571, 1.9285714285714293]\n"
     ]
    }
   ],
   "source": [
    "def minor(matrix: list[list[float]], i: int, j: int) -> list[list[float]]:\n",
    "    return [\n",
    "        [value for col_index, value in enumerate(row) if col_index != j]\n",
    "        for row_index, row in enumerate(matrix) if row_index != i  \n",
    "    ]\n",
    "\n",
    "def cofactor(matrix: list[list[float]]) -> list[list[float]]:\n",
    "    return [\n",
    "        [((-1) ** (i+j)) * determinant(minor(matrix, i, j)) for j in range(3)]\n",
    "        for i in range(3)\n",
    "    ]\n",
    "\n",
    "def adjoint(matrix: list[list[float]]) -> list[list[float]]:\n",
    "    return transpose(cofactor(matrix))\n",
    "\n",
    "def solve(matrix: list[list[float]], vector: list[float]) -> list[float]:\n",
    "    result = [[0, 0, 0], [0, 0, 0], [0, 0, 0]]\n",
    "    f = 1/determinant(matrix)\n",
    "    adj = adjoint(matrix)\n",
    "    for i in range(3):\n",
    "        for j in range(3):\n",
    "            result[i][j] = adj[i][j] * f\n",
    "    return multiply(result, vector)\n",
    "\n",
    "print(f\"{solve(A, B)=}\")"
   ]
  }
 ],
 "metadata": {
  "kernelspec": {
   "display_name": "Python 3",
   "language": "python",
   "name": "python3"
  },
  "language_info": {
   "codemirror_mode": {
    "name": "ipython",
    "version": 3
   },
   "file_extension": ".py",
   "mimetype": "text/x-python",
   "name": "python",
   "nbconvert_exporter": "python",
   "pygments_lexer": "ipython3",
   "version": "3.12.7"
  }
 },
 "nbformat": 4,
 "nbformat_minor": 2
}
