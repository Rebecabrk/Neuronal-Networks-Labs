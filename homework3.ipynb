{
 "cells": [
  {
   "cell_type": "code",
   "execution_count": 14,
   "metadata": {},
   "outputs": [],
   "source": [
    "import math\n",
    "import numpy as np\n",
    "from torchvision.datasets import MNIST\n",
    "from sklearn.preprocessing import OneHotEncoder\n",
    "from sklearn.metrics import accuracy_score"
   ]
  },
  {
   "cell_type": "code",
   "execution_count": 15,
   "metadata": {},
   "outputs": [],
   "source": [
    "def download_mnist(is_train: bool):\n",
    "    dataset = MNIST(root='./data',\n",
    "                    transform=lambda x: np.array(x).flatten() / 255.0,\n",
    "                    download=True,\n",
    "                    train=is_train)\n",
    "    mnist_data = []\n",
    "    mnist_labels = []\n",
    "    for image, label in dataset:\n",
    "        mnist_data.append(image)\n",
    "        mnist_labels.append(label)\n",
    "    return np.array(mnist_data), np.array(mnist_labels)"
   ]
  },
  {
   "cell_type": "code",
   "execution_count": 16,
   "metadata": {},
   "outputs": [],
   "source": [
    "def one_hot_encode(labels):\n",
    "    encoder = OneHotEncoder(sparse_output=False)\n",
    "    return encoder.fit_transform(labels.reshape(-1, 1))"
   ]
  },
  {
   "cell_type": "code",
   "execution_count": 17,
   "metadata": {},
   "outputs": [],
   "source": [
    "def weight_initialization_Xavier_Uniform(input_dim, output_dim):\n",
    "    low_bound = -math.sqrt(6/(input_dim + output_dim))\n",
    "    upper_bound = math.sqrt(6/(input_dim + output_dim))\n",
    "    W = np.random.uniform(low_bound, upper_bound, size=(input_dim, output_dim))\n",
    "    b = np.zeros((1, output_dim))\n",
    "    return W, b"
   ]
  },
  {
   "cell_type": "code",
   "execution_count": 18,
   "metadata": {},
   "outputs": [],
   "source": [
    "def softmax(Z):\n",
    "    expZ = np.exp(Z - np.max(Z, axis=1, keepdims=True))\n",
    "    return expZ / np.sum(expZ, axis=1, keepdims=True)"
   ]
  },
  {
   "cell_type": "code",
   "execution_count": 19,
   "metadata": {},
   "outputs": [],
   "source": [
    "def sigmoid(Z):\n",
    "    return 1/(1 + np.exp(-Z))"
   ]
  },
  {
   "cell_type": "code",
   "execution_count": 20,
   "metadata": {},
   "outputs": [],
   "source": [
    "def forward_propagation(X, W1, b1, W2, b2):\n",
    "    Z1 = np.dot(X, W1) + b1\n",
    "    A1 = sigmoid(Z1)\n",
    "\n",
    "    Z2 = np.dot(A1, W2) +b2\n",
    "    A2 = softmax(Z2)\n",
    "    return A1, A2"
   ]
  },
  {
   "cell_type": "code",
   "execution_count": 21,
   "metadata": {},
   "outputs": [],
   "source": [
    "def compute_loss_cross_entropy(A, Y):\n",
    "    m = Y.shape[0]\n",
    "    log_likelihood = -np.log(A[range(m), Y.argmax(axis=1)])\n",
    "    return np.sum(log_likelihood) / m"
   ]
  },
  {
   "cell_type": "code",
   "execution_count": 22,
   "metadata": {},
   "outputs": [],
   "source": [
    "def backward_propagation(X, Y, A2, A1, W2):\n",
    "    m = X.shape[0]\n",
    "    \n",
    "    # Output layer error term (dZ2)\n",
    "    dZ2 = A2 - Y  # Derivative of softmax + cross-entropy\n",
    "    dW2 = np.dot(A1.T, dZ2) / m  # Gradient w.r.t. weights (output layer)\n",
    "    db2 = np.sum(dZ2, axis=0, keepdims=True) / m  # Gradient w.r.t. biases (output layer)\n",
    "    \n",
    "    # Hidden layer error term (dZ1)\n",
    "    dZ1 = np.dot(dZ2, W2.T) * A1 * (1 - A1)  # For sigmoid activation (derivative of sigmoid)\n",
    "    dW1 = np.dot(X.T, dZ1) / m  # Gradient w.r.t. weights (hidden layer)\n",
    "    db1 = np.sum(dZ1, axis=0, keepdims=True) / m  # Gradient w.r.t. biases (hidden layer)\n",
    "    \n",
    "    return dW1, db1, dW2, db2\n"
   ]
  },
  {
   "cell_type": "code",
   "execution_count": 23,
   "metadata": {},
   "outputs": [],
   "source": [
    "def update_params(W1, b1, W2, b2, dW1, db1, dW2, db2, learning_rate):\n",
    "    W1 -= learning_rate * dW1\n",
    "    b1 -= learning_rate * db1\n",
    "    \n",
    "    W2 -= learning_rate * dW2\n",
    "    b2 -= learning_rate * db2\n",
    "    \n",
    "    return W1, b1, W2, b2"
   ]
  },
  {
   "cell_type": "code",
   "execution_count": 24,
   "metadata": {},
   "outputs": [],
   "source": [
    "def train_model(train_X, train_Y, input_dim, intermediary_dim, output_dim, epochs=100, learning_rate=0.01, batch_size=100):\n",
    "    W1, b1 = weight_initialization_Xavier_Uniform(input_dim, intermediary_dim)\n",
    "    W2, b2 = weight_initialization_Xavier_Uniform(intermediary_dim, output_dim)\n",
    "    \n",
    "    for epoch in range(epochs):\n",
    "        perm = np.random.permutation(train_X.shape[0])\n",
    "        train_X = train_X[perm]\n",
    "        train_Y = train_Y[perm]\n",
    "        \n",
    "        for i in range(0, train_X.shape[0], batch_size):\n",
    "            X_batch = train_X[i:i+batch_size]\n",
    "            Y_batch = train_Y[i:i+batch_size]\n",
    "            \n",
    "            # Forward propagation\n",
    "            A1, A2 = forward_propagation(X_batch, W1, b1, W2, b2)\n",
    "            \n",
    "            # Compute loss (optional for tracking)\n",
    "            loss = compute_loss_cross_entropy(A2, Y_batch)\n",
    "            \n",
    "            # Backward propagation\n",
    "            dW1, db1, dW2, db2 = backward_propagation(X_batch, Y_batch, A2, A1, W2) \n",
    "            \n",
    "            # Update parameters\n",
    "            W1, b1, W2, b2 = update_params(W1, b1, W2, b2, dW1, db1, dW2, db2, learning_rate)\n",
    "            \n",
    "        print(f'Epoch {epoch+1}/{epochs}, Loss: {loss:.4f}')\n",
    "    \n",
    "    return W1, b1, W2, b2"
   ]
  },
  {
   "cell_type": "code",
   "execution_count": 25,
   "metadata": {},
   "outputs": [],
   "source": [
    "def predict(X, W1, b1, W2, b2):\n",
    "    A2 = forward_propagation(X, W1, b1, W2, b2)[1]\n",
    "    return np.argmax(A2, axis=1)"
   ]
  },
  {
   "cell_type": "code",
   "execution_count": 26,
   "metadata": {},
   "outputs": [
    {
     "name": "stdout",
     "output_type": "stream",
     "text": [
      "Epoch 1/100, Loss: 0.4114\n",
      "Epoch 2/100, Loss: 0.4418\n",
      "Epoch 3/100, Loss: 0.3443\n",
      "Epoch 4/100, Loss: 0.2656\n",
      "Epoch 5/100, Loss: 0.2281\n",
      "Epoch 6/100, Loss: 0.2603\n",
      "Epoch 7/100, Loss: 0.2192\n",
      "Epoch 8/100, Loss: 0.1227\n",
      "Epoch 9/100, Loss: 0.1983\n",
      "Epoch 10/100, Loss: 0.2050\n",
      "Epoch 11/100, Loss: 0.2496\n",
      "Epoch 12/100, Loss: 0.1112\n",
      "Epoch 13/100, Loss: 0.1834\n",
      "Epoch 14/100, Loss: 0.1699\n",
      "Epoch 15/100, Loss: 0.2448\n",
      "Epoch 16/100, Loss: 0.2066\n",
      "Epoch 17/100, Loss: 0.1567\n",
      "Epoch 18/100, Loss: 0.2134\n",
      "Epoch 19/100, Loss: 0.0881\n",
      "Epoch 20/100, Loss: 0.1386\n",
      "Epoch 21/100, Loss: 0.0729\n",
      "Epoch 22/100, Loss: 0.1888\n",
      "Epoch 23/100, Loss: 0.2213\n",
      "Epoch 24/100, Loss: 0.1195\n",
      "Epoch 25/100, Loss: 0.1726\n",
      "Epoch 26/100, Loss: 0.1811\n",
      "Epoch 27/100, Loss: 0.2322\n",
      "Epoch 28/100, Loss: 0.1857\n",
      "Epoch 29/100, Loss: 0.0421\n",
      "Epoch 30/100, Loss: 0.0697\n",
      "Epoch 31/100, Loss: 0.0857\n",
      "Epoch 32/100, Loss: 0.0943\n",
      "Epoch 33/100, Loss: 0.1002\n",
      "Epoch 34/100, Loss: 0.1723\n",
      "Epoch 35/100, Loss: 0.0916\n",
      "Epoch 36/100, Loss: 0.1303\n",
      "Epoch 37/100, Loss: 0.0982\n",
      "Epoch 38/100, Loss: 0.0987\n",
      "Epoch 39/100, Loss: 0.1137\n",
      "Epoch 40/100, Loss: 0.0865\n",
      "Epoch 41/100, Loss: 0.0796\n",
      "Epoch 42/100, Loss: 0.0796\n",
      "Epoch 43/100, Loss: 0.1043\n",
      "Epoch 44/100, Loss: 0.1216\n",
      "Epoch 45/100, Loss: 0.0531\n",
      "Epoch 46/100, Loss: 0.0801\n",
      "Epoch 47/100, Loss: 0.0843\n",
      "Epoch 48/100, Loss: 0.0351\n",
      "Epoch 49/100, Loss: 0.0713\n",
      "Epoch 50/100, Loss: 0.0475\n",
      "Epoch 51/100, Loss: 0.0592\n",
      "Epoch 52/100, Loss: 0.0563\n",
      "Epoch 53/100, Loss: 0.0600\n",
      "Epoch 54/100, Loss: 0.0493\n",
      "Epoch 55/100, Loss: 0.0586\n",
      "Epoch 56/100, Loss: 0.1297\n",
      "Epoch 57/100, Loss: 0.0646\n",
      "Epoch 58/100, Loss: 0.1492\n",
      "Epoch 59/100, Loss: 0.0690\n",
      "Epoch 60/100, Loss: 0.0770\n",
      "Epoch 61/100, Loss: 0.0331\n",
      "Epoch 62/100, Loss: 0.0685\n",
      "Epoch 63/100, Loss: 0.0905\n",
      "Epoch 64/100, Loss: 0.0306\n",
      "Epoch 65/100, Loss: 0.2485\n",
      "Epoch 66/100, Loss: 0.0754\n",
      "Epoch 67/100, Loss: 0.0587\n",
      "Epoch 68/100, Loss: 0.0250\n",
      "Epoch 69/100, Loss: 0.0645\n",
      "Epoch 70/100, Loss: 0.0258\n",
      "Epoch 71/100, Loss: 0.0768\n",
      "Epoch 72/100, Loss: 0.0361\n",
      "Epoch 73/100, Loss: 0.0255\n",
      "Epoch 74/100, Loss: 0.0633\n",
      "Epoch 75/100, Loss: 0.0490\n",
      "Epoch 76/100, Loss: 0.0268\n",
      "Epoch 77/100, Loss: 0.1073\n",
      "Epoch 78/100, Loss: 0.0742\n",
      "Epoch 79/100, Loss: 0.0285\n",
      "Epoch 80/100, Loss: 0.0287\n",
      "Epoch 81/100, Loss: 0.0439\n",
      "Epoch 82/100, Loss: 0.0254\n",
      "Epoch 83/100, Loss: 0.0220\n",
      "Epoch 84/100, Loss: 0.0546\n",
      "Epoch 85/100, Loss: 0.0652\n",
      "Epoch 86/100, Loss: 0.0918\n",
      "Epoch 87/100, Loss: 0.0200\n",
      "Epoch 88/100, Loss: 0.0183\n",
      "Epoch 89/100, Loss: 0.0239\n",
      "Epoch 90/100, Loss: 0.1388\n",
      "Epoch 91/100, Loss: 0.0347\n",
      "Epoch 92/100, Loss: 0.0352\n",
      "Epoch 93/100, Loss: 0.0162\n",
      "Epoch 94/100, Loss: 0.0210\n",
      "Epoch 95/100, Loss: 0.0261\n",
      "Epoch 96/100, Loss: 0.0191\n",
      "Epoch 97/100, Loss: 0.0400\n",
      "Epoch 98/100, Loss: 0.0979\n",
      "Epoch 99/100, Loss: 0.0107\n",
      "Epoch 100/100, Loss: 0.0271\n",
      "Training Accuracy: 99.01%\n",
      "Test Accuracy: 97.74%\n"
     ]
    }
   ],
   "source": [
    "train_X, train_Y = download_mnist(True)\n",
    "test_X, test_Y = download_mnist(False)\n",
    "    \n",
    "train_Y = one_hot_encode(train_Y)\n",
    "test_Y_one_hot = one_hot_encode(test_Y)\n",
    "    \n",
    "input_dim = 784\n",
    "intermediary_dim = 100\n",
    "output_dim = 10\n",
    "epochs = 100\n",
    "learning_rate = 0.1\n",
    "batch_size = 100\n",
    "    \n",
    "W1, b1, W2, b2 = train_model(train_X, train_Y, input_dim, intermediary_dim,output_dim, epochs, learning_rate, batch_size)\n",
    "    \n",
    "train_predictions = predict(train_X, W1, b1, W2, b2)\n",
    "test_predictions = predict(test_X, W1, b1, W2, b2)\n",
    "    \n",
    "print(f'Training Accuracy: {accuracy_score(np.argmax(train_Y, axis=1), train_predictions) * 100:.2f}%')\n",
    "print(f'Test Accuracy: {accuracy_score(test_Y, test_predictions) * 100:.2f}%')"
   ]
  }
 ],
 "metadata": {
  "kernelspec": {
   "display_name": "Python 3",
   "language": "python",
   "name": "python3"
  },
  "language_info": {
   "codemirror_mode": {
    "name": "ipython",
    "version": 3
   },
   "file_extension": ".py",
   "mimetype": "text/x-python",
   "name": "python",
   "nbconvert_exporter": "python",
   "pygments_lexer": "ipython3",
   "version": "3.12.7"
  }
 },
 "nbformat": 4,
 "nbformat_minor": 2
}
