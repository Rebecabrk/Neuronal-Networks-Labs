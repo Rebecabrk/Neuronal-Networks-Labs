{
 "cells": [
  {
   "cell_type": "code",
   "execution_count": 1,
   "metadata": {},
   "outputs": [],
   "source": [
    "import numpy as np\n",
    "from torchvision.datasets import MNIST\n",
    "from sklearn.preprocessing import OneHotEncoder\n",
    "from sklearn.metrics import accuracy_score\n",
    "\n",
    "def download_mnist(is_train: bool):\n",
    "    dataset = MNIST(root='./data',\n",
    "                    transform=lambda x: np.array(x).flatten() / 255.0,\n",
    "                    download=True,\n",
    "                    train=is_train)\n",
    "    mnist_data = []\n",
    "    mnist_labels = []\n",
    "    for image, label in dataset:\n",
    "        mnist_data.append(image)\n",
    "        mnist_labels.append(label)\n",
    "    return np.array(mnist_data), np.array(mnist_labels)"
   ]
  },
  {
   "cell_type": "code",
   "execution_count": 2,
   "metadata": {},
   "outputs": [],
   "source": [
    "def one_hot_encode(labels):\n",
    "    encoder = OneHotEncoder(sparse_output=False)\n",
    "    return encoder.fit_transform(labels.reshape(-1, 1))"
   ]
  },
  {
   "cell_type": "code",
   "execution_count": 3,
   "metadata": {},
   "outputs": [],
   "source": [
    "def initialize_params(input_dim, output_dim):\n",
    "    W = np.random.randn(input_dim, output_dim) * 0.01   # W -> 784, 10\n",
    "    b = np.zeros((1, output_dim))                       # b -> 1, 10\n",
    "    return W, b"
   ]
  },
  {
   "cell_type": "code",
   "execution_count": 4,
   "metadata": {},
   "outputs": [],
   "source": [
    "def softmax(Z):\n",
    "    expZ = np.exp(Z - np.max(Z, axis=1, keepdims=True))\n",
    "    return expZ / np.sum(expZ, axis=1, keepdims=True)"
   ]
  },
  {
   "cell_type": "code",
   "execution_count": 5,
   "metadata": {},
   "outputs": [],
   "source": [
    "def forward_propagation(X, W, b):\n",
    "    Z = np.dot(X, W) + b\n",
    "    A = softmax(Z)\n",
    "    return A"
   ]
  },
  {
   "cell_type": "code",
   "execution_count": 6,
   "metadata": {},
   "outputs": [],
   "source": [
    "def compute_loss(A, Y):\n",
    "    m = Y.shape[0]\n",
    "    log_likelihood = -np.log(A[range(m), Y.argmax(axis=1)])\n",
    "    return np.sum(log_likelihood) / m"
   ]
  },
  {
   "cell_type": "code",
   "execution_count": 7,
   "metadata": {},
   "outputs": [],
   "source": [
    "def backward_propagation(X, Y, A):\n",
    "    m = X.shape[0]\n",
    "    dZ = A - Y\n",
    "    dW = np.dot(X.T, dZ) / m 6\n",
    "    db = np.sum(dZ, axis=0, keepdims=True) / m\n",
    "    return dW, db"
   ]
  },
  {
   "cell_type": "code",
   "execution_count": 8,
   "metadata": {},
   "outputs": [],
   "source": [
    "def update_params(W, b, dW, db, learning_rate):\n",
    "    W -= learning_rate * dW\n",
    "    b -= learning_rate * db\n",
    "    return W, b"
   ]
  },
  {
   "cell_type": "code",
   "execution_count": 9,
   "metadata": {},
   "outputs": [],
   "source": [
    "def train_model(train_X, train_Y, input_dim, output_dim, epochs=100, learning_rate=0.01, batch_size=100):\n",
    "    W, b = initialize_params(input_dim, output_dim)\n",
    "    \n",
    "    for epoch in range(epochs):\n",
    "        perm = np.random.permutation(train_X.shape[0])\n",
    "        train_X = train_X[perm]\n",
    "        train_Y = train_Y[perm]\n",
    "        \n",
    "        for i in range(0, train_X.shape[0], batch_size):\n",
    "            X_batch = train_X[i:i+batch_size]\n",
    "            Y_batch = train_Y[i:i+batch_size]\n",
    "            \n",
    "            # Forward propagation\n",
    "            A = forward_propagation(X_batch, W, b)\n",
    "            \n",
    "            # Compute loss (optional for tracking)\n",
    "            loss = compute_loss(A, Y_batch)\n",
    "            \n",
    "            # Backward propagation\n",
    "            dW, db = backward_propagation(X_batch, Y_batch, A) # X -> 100x784, Y -> 100x10, A -> 100X10\n",
    "            \n",
    "            # Update parameters\n",
    "            W, b = update_params(W, b, dW, db, learning_rate)\n",
    "            \n",
    "        print(f'Epoch {epoch+1}/{epochs}, Loss: {loss:.4f}')\n",
    "    \n",
    "    return W, b"
   ]
  },
  {
   "cell_type": "code",
   "execution_count": 10,
   "metadata": {},
   "outputs": [],
   "source": [
    "def predict(X, W, b):\n",
    "    A = forward_propagation(X, W, b)\n",
    "    return np.argmax(A, axis=1)"
   ]
  },
  {
   "cell_type": "code",
   "execution_count": 11,
   "metadata": {},
   "outputs": [
    {
     "name": "stdout",
     "output_type": "stream",
     "text": [
      "Epoch 1/100, Loss: 0.7306\n",
      "Epoch 2/100, Loss: 0.4533\n",
      "Epoch 3/100, Loss: 0.4279\n",
      "Epoch 4/100, Loss: 0.4009\n",
      "Epoch 5/100, Loss: 0.4336\n",
      "Epoch 6/100, Loss: 0.2544\n",
      "Epoch 7/100, Loss: 0.3600\n",
      "Epoch 8/100, Loss: 0.4100\n",
      "Epoch 9/100, Loss: 0.3769\n",
      "Epoch 10/100, Loss: 0.4769\n",
      "Epoch 11/100, Loss: 0.3975\n",
      "Epoch 12/100, Loss: 0.3613\n",
      "Epoch 13/100, Loss: 0.3611\n",
      "Epoch 14/100, Loss: 0.3559\n",
      "Epoch 15/100, Loss: 0.3959\n",
      "Epoch 16/100, Loss: 0.3565\n",
      "Epoch 17/100, Loss: 0.4034\n",
      "Epoch 18/100, Loss: 0.5589\n",
      "Epoch 19/100, Loss: 0.3444\n",
      "Epoch 20/100, Loss: 0.3341\n",
      "Epoch 21/100, Loss: 0.4690\n",
      "Epoch 22/100, Loss: 0.1757\n",
      "Epoch 23/100, Loss: 0.1935\n",
      "Epoch 24/100, Loss: 0.4857\n",
      "Epoch 25/100, Loss: 0.3096\n",
      "Epoch 26/100, Loss: 0.2985\n",
      "Epoch 27/100, Loss: 0.3948\n",
      "Epoch 28/100, Loss: 0.3299\n",
      "Epoch 29/100, Loss: 0.2642\n",
      "Epoch 30/100, Loss: 0.3175\n",
      "Epoch 31/100, Loss: 0.3563\n",
      "Epoch 32/100, Loss: 0.2842\n",
      "Epoch 33/100, Loss: 0.2948\n",
      "Epoch 34/100, Loss: 0.1987\n",
      "Epoch 35/100, Loss: 0.3263\n",
      "Epoch 36/100, Loss: 0.3748\n",
      "Epoch 37/100, Loss: 0.3584\n",
      "Epoch 38/100, Loss: 0.2741\n",
      "Epoch 39/100, Loss: 0.3156\n",
      "Epoch 40/100, Loss: 0.3826\n",
      "Epoch 41/100, Loss: 0.3954\n",
      "Epoch 42/100, Loss: 0.3575\n",
      "Epoch 43/100, Loss: 0.1606\n",
      "Epoch 44/100, Loss: 0.2913\n",
      "Epoch 45/100, Loss: 0.2821\n",
      "Epoch 46/100, Loss: 0.2733\n",
      "Epoch 47/100, Loss: 0.3510\n",
      "Epoch 48/100, Loss: 0.3275\n",
      "Epoch 49/100, Loss: 0.4573\n",
      "Epoch 50/100, Loss: 0.3314\n",
      "Epoch 51/100, Loss: 0.4429\n",
      "Epoch 52/100, Loss: 0.2113\n",
      "Epoch 53/100, Loss: 0.1455\n",
      "Epoch 54/100, Loss: 0.3323\n",
      "Epoch 55/100, Loss: 0.2465\n",
      "Epoch 56/100, Loss: 0.3074\n",
      "Epoch 57/100, Loss: 0.2213\n",
      "Epoch 58/100, Loss: 0.2886\n",
      "Epoch 59/100, Loss: 0.3190\n",
      "Epoch 60/100, Loss: 0.1683\n",
      "Epoch 61/100, Loss: 0.2623\n",
      "Epoch 62/100, Loss: 0.2173\n",
      "Epoch 63/100, Loss: 0.2854\n",
      "Epoch 64/100, Loss: 0.1964\n",
      "Epoch 65/100, Loss: 0.1798\n",
      "Epoch 66/100, Loss: 0.5127\n",
      "Epoch 67/100, Loss: 0.2883\n",
      "Epoch 68/100, Loss: 0.2384\n",
      "Epoch 69/100, Loss: 0.2697\n",
      "Epoch 70/100, Loss: 0.2635\n",
      "Epoch 71/100, Loss: 0.3879\n",
      "Epoch 72/100, Loss: 0.2532\n",
      "Epoch 73/100, Loss: 0.3053\n",
      "Epoch 74/100, Loss: 0.3026\n",
      "Epoch 75/100, Loss: 0.3059\n",
      "Epoch 76/100, Loss: 0.5490\n",
      "Epoch 77/100, Loss: 0.3602\n",
      "Epoch 78/100, Loss: 0.3452\n",
      "Epoch 79/100, Loss: 0.2906\n",
      "Epoch 80/100, Loss: 0.2103\n",
      "Epoch 81/100, Loss: 0.2292\n",
      "Epoch 82/100, Loss: 0.2353\n",
      "Epoch 83/100, Loss: 0.1904\n",
      "Epoch 84/100, Loss: 0.2619\n",
      "Epoch 85/100, Loss: 0.2785\n",
      "Epoch 86/100, Loss: 0.4042\n",
      "Epoch 87/100, Loss: 0.2085\n",
      "Epoch 88/100, Loss: 0.2543\n",
      "Epoch 89/100, Loss: 0.1922\n",
      "Epoch 90/100, Loss: 0.2653\n",
      "Epoch 91/100, Loss: 0.2890\n",
      "Epoch 92/100, Loss: 0.3788\n",
      "Epoch 93/100, Loss: 0.2176\n",
      "Epoch 94/100, Loss: 0.2769\n",
      "Epoch 95/100, Loss: 0.3024\n",
      "Epoch 96/100, Loss: 0.2763\n",
      "Epoch 97/100, Loss: 0.2810\n",
      "Epoch 98/100, Loss: 0.3142\n",
      "Epoch 99/100, Loss: 0.2473\n",
      "Epoch 100/100, Loss: 0.3249\n",
      "Training Accuracy: 92.26%\n",
      "Test Accuracy: 92.23%\n"
     ]
    }
   ],
   "source": [
    "train_X, train_Y = download_mnist(True)\n",
    "test_X, test_Y = download_mnist(False)\n",
    "    \n",
    "train_Y = one_hot_encode(train_Y)\n",
    "test_Y_one_hot = one_hot_encode(test_Y)\n",
    "    \n",
    "input_dim = 784\n",
    "output_dim = 10\n",
    "epochs = 100\n",
    "learning_rate = 0.01\n",
    "batch_size = 100\n",
    "    \n",
    "W, b = train_model(train_X, train_Y, input_dim, output_dim, epochs, learning_rate, batch_size)\n",
    "    \n",
    "train_predictions = predict(train_X, W, b)\n",
    "test_predictions = predict(test_X, W, b)\n",
    "    \n",
    "print(f'Training Accuracy: {accuracy_score(np.argmax(train_Y, axis=1), train_predictions) * 100:.2f}%')\n",
    "print(f'Test Accuracy: {accuracy_score(test_Y, test_predictions) * 100:.2f}%')"
   ]
  }
 ],
 "metadata": {
  "kernelspec": {
   "display_name": "Python 3",
   "language": "python",
   "name": "python3"
  },
  "language_info": {
   "codemirror_mode": {
    "name": "ipython",
    "version": 3
   },
   "file_extension": ".py",
   "mimetype": "text/x-python",
   "name": "python",
   "nbconvert_exporter": "python",
   "pygments_lexer": "ipython3",
   "version": "3.12.7"
  }
 },
 "nbformat": 4,
 "nbformat_minor": 2
}
