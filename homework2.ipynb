{
 "cells": [
  {
   "cell_type": "code",
   "execution_count": 52,
   "metadata": {},
   "outputs": [],
   "source": [
    "import numpy as np\n",
    "from torchvision.datasets import MNIST\n",
    "from sklearn.preprocessing import OneHotEncoder\n",
    "from sklearn.metrics import accuracy_score\n",
    "\n",
    "def download_mnist(is_train: bool):\n",
    "    dataset = MNIST(root='./data',\n",
    "                    transform=lambda x: np.array(x).flatten() / 255.0,\n",
    "                    download=True,\n",
    "                    train=is_train)\n",
    "    mnist_data = []\n",
    "    mnist_labels = []\n",
    "    for image, label in dataset:\n",
    "        mnist_data.append(image)\n",
    "        mnist_labels.append(label)\n",
    "    return np.array(mnist_data), np.array(mnist_labels)"
   ]
  },
  {
   "cell_type": "code",
   "execution_count": 53,
   "metadata": {},
   "outputs": [],
   "source": [
    "def one_hot_encode(labels):\n",
    "    encoder = OneHotEncoder(sparse_output=False)\n",
    "    return encoder.fit_transform(labels.reshape(-1, 1))"
   ]
  },
  {
   "cell_type": "code",
   "execution_count": 54,
   "metadata": {},
   "outputs": [],
   "source": [
    "def initialize_params(input_dim, output_dim):\n",
    "    W = np.random.randn(input_dim, output_dim) * 0.01\n",
    "    b = np.zeros((1, output_dim))\n",
    "    return W, b"
   ]
  },
  {
   "cell_type": "code",
   "execution_count": 55,
   "metadata": {},
   "outputs": [],
   "source": [
    "def softmax(Z):\n",
    "    expZ = np.exp(Z - np.max(Z, axis=1, keepdims=True))\n",
    "    return expZ / np.sum(expZ, axis=1, keepdims=True)"
   ]
  },
  {
   "cell_type": "code",
   "execution_count": 56,
   "metadata": {},
   "outputs": [],
   "source": [
    "def forward_propagation(X, W, b):\n",
    "    Z = np.dot(X, W) + b\n",
    "    A = softmax(Z)\n",
    "    return A"
   ]
  },
  {
   "cell_type": "code",
   "execution_count": 57,
   "metadata": {},
   "outputs": [],
   "source": [
    "def compute_loss(A, Y):\n",
    "    m = Y.shape[0]\n",
    "    log_likelihood = -np.log(A[range(m), Y.argmax(axis=1)])\n",
    "    return np.sum(log_likelihood) / m"
   ]
  },
  {
   "cell_type": "code",
   "execution_count": 58,
   "metadata": {},
   "outputs": [],
   "source": [
    "def backward_propagation(X, Y, A):\n",
    "    m = X.shape[0]\n",
    "    dZ = A - Y\n",
    "    dW = np.dot(X.T, dZ) / m\n",
    "    db = np.sum(dZ, axis=0, keepdims=True) / m\n",
    "    return dW, db"
   ]
  },
  {
   "cell_type": "code",
   "execution_count": 59,
   "metadata": {},
   "outputs": [],
   "source": [
    "def update_params(W, b, dW, db, learning_rate):\n",
    "    W -= learning_rate * dW\n",
    "    b -= learning_rate * db\n",
    "    return W, b"
   ]
  },
  {
   "cell_type": "code",
   "execution_count": 60,
   "metadata": {},
   "outputs": [],
   "source": [
    "def train_model(train_X, train_Y, input_dim, output_dim, epochs=100, learning_rate=0.01, batch_size=100):\n",
    "    W, b = initialize_params(input_dim, output_dim)\n",
    "    \n",
    "    for epoch in range(epochs):\n",
    "        perm = np.random.permutation(train_X.shape[0])\n",
    "        train_X = train_X[perm]\n",
    "        train_Y = train_Y[perm]\n",
    "        \n",
    "        for i in range(0, train_X.shape[0], batch_size):\n",
    "            X_batch = train_X[i:i+batch_size]\n",
    "            Y_batch = train_Y[i:i+batch_size]\n",
    "            \n",
    "            # Forward propagation\n",
    "            A = forward_propagation(X_batch, W, b)\n",
    "            \n",
    "            # Compute loss (optional for tracking)\n",
    "            loss = compute_loss(A, Y_batch)\n",
    "            \n",
    "            # Backward propagation\n",
    "            dW, db = backward_propagation(X_batch, Y_batch, A)\n",
    "            \n",
    "            # Update parameters\n",
    "            W, b = update_params(W, b, dW, db, learning_rate)\n",
    "            \n",
    "        print(f'Epoch {epoch+1}/{epochs}, Loss: {loss:.4f}')\n",
    "    \n",
    "    return W, b"
   ]
  },
  {
   "cell_type": "code",
   "execution_count": 61,
   "metadata": {},
   "outputs": [],
   "source": [
    "def predict(X, W, b):\n",
    "    A = forward_propagation(X, W, b)\n",
    "    return np.argmax(A, axis=1)"
   ]
  },
  {
   "cell_type": "code",
   "execution_count": 62,
   "metadata": {},
   "outputs": [
    {
     "name": "stdout",
     "output_type": "stream",
     "text": [
      "Epoch 1/100, Loss: 0.6757\n",
      "Epoch 2/100, Loss: 0.6648\n",
      "Epoch 3/100, Loss: 0.5222\n",
      "Epoch 4/100, Loss: 0.4759\n",
      "Epoch 5/100, Loss: 0.4113\n",
      "Epoch 6/100, Loss: 0.6114\n",
      "Epoch 7/100, Loss: 0.4044\n",
      "Epoch 8/100, Loss: 0.4378\n",
      "Epoch 9/100, Loss: 0.4482\n",
      "Epoch 10/100, Loss: 0.4473\n",
      "Epoch 11/100, Loss: 0.3053\n",
      "Epoch 12/100, Loss: 0.5141\n",
      "Epoch 13/100, Loss: 0.4180\n",
      "Epoch 14/100, Loss: 0.4805\n",
      "Epoch 15/100, Loss: 0.3147\n",
      "Epoch 16/100, Loss: 0.3753\n",
      "Epoch 17/100, Loss: 0.3410\n",
      "Epoch 18/100, Loss: 0.3624\n",
      "Epoch 19/100, Loss: 0.4568\n",
      "Epoch 20/100, Loss: 0.3700\n",
      "Epoch 21/100, Loss: 0.4296\n",
      "Epoch 22/100, Loss: 0.2702\n",
      "Epoch 23/100, Loss: 0.3399\n",
      "Epoch 24/100, Loss: 0.2417\n",
      "Epoch 25/100, Loss: 0.5139\n",
      "Epoch 26/100, Loss: 0.2240\n",
      "Epoch 27/100, Loss: 0.3124\n",
      "Epoch 28/100, Loss: 0.3614\n",
      "Epoch 29/100, Loss: 0.2804\n",
      "Epoch 30/100, Loss: 0.3677\n",
      "Epoch 31/100, Loss: 0.3729\n",
      "Epoch 32/100, Loss: 0.3363\n",
      "Epoch 33/100, Loss: 0.2815\n",
      "Epoch 34/100, Loss: 0.4348\n",
      "Epoch 35/100, Loss: 0.4546\n",
      "Epoch 36/100, Loss: 0.3034\n",
      "Epoch 37/100, Loss: 0.3679\n",
      "Epoch 38/100, Loss: 0.1696\n",
      "Epoch 39/100, Loss: 0.2897\n",
      "Epoch 40/100, Loss: 0.2574\n",
      "Epoch 41/100, Loss: 0.2066\n",
      "Epoch 42/100, Loss: 0.2354\n",
      "Epoch 43/100, Loss: 0.3744\n",
      "Epoch 44/100, Loss: 0.1969\n",
      "Epoch 45/100, Loss: 0.2382\n",
      "Epoch 46/100, Loss: 0.4195\n",
      "Epoch 47/100, Loss: 0.2209\n",
      "Epoch 48/100, Loss: 0.2482\n",
      "Epoch 49/100, Loss: 0.3876\n",
      "Epoch 50/100, Loss: 0.1975\n",
      "Epoch 51/100, Loss: 0.3477\n",
      "Epoch 52/100, Loss: 0.3723\n",
      "Epoch 53/100, Loss: 0.3056\n",
      "Epoch 54/100, Loss: 0.1876\n",
      "Epoch 55/100, Loss: 0.3437\n",
      "Epoch 56/100, Loss: 0.2019\n",
      "Epoch 57/100, Loss: 0.2777\n",
      "Epoch 58/100, Loss: 0.2915\n",
      "Epoch 59/100, Loss: 0.3069\n",
      "Epoch 60/100, Loss: 0.3285\n",
      "Epoch 61/100, Loss: 0.3421\n",
      "Epoch 62/100, Loss: 0.2786\n",
      "Epoch 63/100, Loss: 0.1766\n",
      "Epoch 64/100, Loss: 0.2646\n",
      "Epoch 65/100, Loss: 0.1900\n",
      "Epoch 66/100, Loss: 0.1990\n",
      "Epoch 67/100, Loss: 0.4627\n",
      "Epoch 68/100, Loss: 0.3167\n",
      "Epoch 69/100, Loss: 0.2054\n",
      "Epoch 70/100, Loss: 0.2913\n",
      "Epoch 71/100, Loss: 0.3484\n",
      "Epoch 72/100, Loss: 0.2684\n",
      "Epoch 73/100, Loss: 0.3933\n",
      "Epoch 74/100, Loss: 0.3096\n",
      "Epoch 75/100, Loss: 0.2422\n",
      "Epoch 76/100, Loss: 0.2888\n",
      "Epoch 77/100, Loss: 0.3599\n",
      "Epoch 78/100, Loss: 0.2031\n",
      "Epoch 79/100, Loss: 0.2455\n",
      "Epoch 80/100, Loss: 0.4072\n",
      "Epoch 81/100, Loss: 0.1768\n",
      "Epoch 82/100, Loss: 0.2662\n",
      "Epoch 83/100, Loss: 0.2322\n",
      "Epoch 84/100, Loss: 0.3585\n",
      "Epoch 85/100, Loss: 0.3300\n",
      "Epoch 86/100, Loss: 0.1695\n",
      "Epoch 87/100, Loss: 0.4725\n",
      "Epoch 88/100, Loss: 0.2146\n",
      "Epoch 89/100, Loss: 0.1705\n",
      "Epoch 90/100, Loss: 0.2717\n",
      "Epoch 91/100, Loss: 0.3139\n",
      "Epoch 92/100, Loss: 0.2343\n",
      "Epoch 93/100, Loss: 0.2655\n",
      "Epoch 94/100, Loss: 0.2533\n",
      "Epoch 95/100, Loss: 0.2316\n",
      "Epoch 96/100, Loss: 0.2703\n",
      "Epoch 97/100, Loss: 0.2417\n",
      "Epoch 98/100, Loss: 0.2494\n",
      "Epoch 99/100, Loss: 0.2724\n",
      "Epoch 100/100, Loss: 0.2352\n",
      "Training Accuracy: 92.26%\n",
      "Test Accuracy: 92.22%\n"
     ]
    }
   ],
   "source": [
    "train_X, train_Y = download_mnist(True)\n",
    "test_X, test_Y = download_mnist(False)\n",
    "    \n",
    "train_Y = one_hot_encode(train_Y)\n",
    "test_Y_one_hot = one_hot_encode(test_Y)\n",
    "    \n",
    "input_dim = 784\n",
    "output_dim = 10\n",
    "epochs = 100\n",
    "learning_rate = 0.01\n",
    "batch_size = 100\n",
    "    \n",
    "W, b = train_model(train_X, train_Y, input_dim, output_dim, epochs, learning_rate, batch_size)\n",
    "    \n",
    "train_predictions = predict(train_X, W, b)\n",
    "test_predictions = predict(test_X, W, b)\n",
    "    \n",
    "print(f'Training Accuracy: {accuracy_score(np.argmax(train_Y, axis=1), train_predictions) * 100:.2f}%')\n",
    "print(f'Test Accuracy: {accuracy_score(test_Y, test_predictions) * 100:.2f}%')"
   ]
  },
  {
   "cell_type": "code",
   "execution_count": 63,
   "metadata": {},
   "outputs": [
    {
     "name": "stdout",
     "output_type": "stream",
     "text": [
      "[5]\n"
     ]
    },
    {
     "ename": "AxisError",
     "evalue": "axis 1 is out of bounds for array of dimension 1",
     "output_type": "error",
     "traceback": [
      "\u001b[1;31m---------------------------------------------------------------------------\u001b[0m",
      "\u001b[1;31mAxisError\u001b[0m                                 Traceback (most recent call last)",
      "Cell \u001b[1;32mIn[63], line 3\u001b[0m\n\u001b[0;32m      1\u001b[0m result \u001b[38;5;241m=\u001b[39m predict(train_X[\u001b[38;5;241m0\u001b[39m],W,b)\n\u001b[0;32m      2\u001b[0m \u001b[38;5;28mprint\u001b[39m(result)\n\u001b[1;32m----> 3\u001b[0m \u001b[38;5;28mprint\u001b[39m(\u001b[38;5;124mf\u001b[39m\u001b[38;5;124m'\u001b[39m\u001b[38;5;124mTraining Accuracy: \u001b[39m\u001b[38;5;132;01m{\u001b[39;00maccuracy_score(\u001b[43mnp\u001b[49m\u001b[38;5;241;43m.\u001b[39;49m\u001b[43margmax\u001b[49m\u001b[43m(\u001b[49m\u001b[43mtrain_Y\u001b[49m\u001b[43m[\u001b[49m\u001b[38;5;241;43m0\u001b[39;49m\u001b[43m]\u001b[49m\u001b[43m,\u001b[49m\u001b[38;5;250;43m \u001b[39;49m\u001b[43maxis\u001b[49m\u001b[38;5;241;43m=\u001b[39;49m\u001b[38;5;241;43m1\u001b[39;49m\u001b[43m)\u001b[49m,\u001b[38;5;250m \u001b[39mresult)\u001b[38;5;250m \u001b[39m\u001b[38;5;241m*\u001b[39m\u001b[38;5;250m \u001b[39m\u001b[38;5;241m100\u001b[39m\u001b[38;5;132;01m:\u001b[39;00m\u001b[38;5;124m.2f\u001b[39m\u001b[38;5;132;01m}\u001b[39;00m\u001b[38;5;124m%\u001b[39m\u001b[38;5;124m'\u001b[39m)\n",
      "File \u001b[1;32mc:\\Users\\REBECA\\AppData\\Local\\Programs\\Python\\Python312\\Lib\\site-packages\\numpy\\_core\\fromnumeric.py:1359\u001b[0m, in \u001b[0;36margmax\u001b[1;34m(a, axis, out, keepdims)\u001b[0m\n\u001b[0;32m   1270\u001b[0m \u001b[38;5;250m\u001b[39m\u001b[38;5;124;03m\"\"\"\u001b[39;00m\n\u001b[0;32m   1271\u001b[0m \u001b[38;5;124;03mReturns the indices of the maximum values along an axis.\u001b[39;00m\n\u001b[0;32m   1272\u001b[0m \n\u001b[1;32m   (...)\u001b[0m\n\u001b[0;32m   1356\u001b[0m \u001b[38;5;124;03m(2, 1, 4)\u001b[39;00m\n\u001b[0;32m   1357\u001b[0m \u001b[38;5;124;03m\"\"\"\u001b[39;00m\n\u001b[0;32m   1358\u001b[0m kwds \u001b[38;5;241m=\u001b[39m {\u001b[38;5;124m'\u001b[39m\u001b[38;5;124mkeepdims\u001b[39m\u001b[38;5;124m'\u001b[39m: keepdims} \u001b[38;5;28;01mif\u001b[39;00m keepdims \u001b[38;5;129;01mis\u001b[39;00m \u001b[38;5;129;01mnot\u001b[39;00m np\u001b[38;5;241m.\u001b[39m_NoValue \u001b[38;5;28;01melse\u001b[39;00m {}\n\u001b[1;32m-> 1359\u001b[0m \u001b[38;5;28;01mreturn\u001b[39;00m \u001b[43m_wrapfunc\u001b[49m\u001b[43m(\u001b[49m\u001b[43ma\u001b[49m\u001b[43m,\u001b[49m\u001b[43m \u001b[49m\u001b[38;5;124;43m'\u001b[39;49m\u001b[38;5;124;43margmax\u001b[39;49m\u001b[38;5;124;43m'\u001b[39;49m\u001b[43m,\u001b[49m\u001b[43m \u001b[49m\u001b[43maxis\u001b[49m\u001b[38;5;241;43m=\u001b[39;49m\u001b[43maxis\u001b[49m\u001b[43m,\u001b[49m\u001b[43m \u001b[49m\u001b[43mout\u001b[49m\u001b[38;5;241;43m=\u001b[39;49m\u001b[43mout\u001b[49m\u001b[43m,\u001b[49m\u001b[43m \u001b[49m\u001b[38;5;241;43m*\u001b[39;49m\u001b[38;5;241;43m*\u001b[39;49m\u001b[43mkwds\u001b[49m\u001b[43m)\u001b[49m\n",
      "File \u001b[1;32mc:\\Users\\REBECA\\AppData\\Local\\Programs\\Python\\Python312\\Lib\\site-packages\\numpy\\_core\\fromnumeric.py:57\u001b[0m, in \u001b[0;36m_wrapfunc\u001b[1;34m(obj, method, *args, **kwds)\u001b[0m\n\u001b[0;32m     54\u001b[0m     \u001b[38;5;28;01mreturn\u001b[39;00m _wrapit(obj, method, \u001b[38;5;241m*\u001b[39margs, \u001b[38;5;241m*\u001b[39m\u001b[38;5;241m*\u001b[39mkwds)\n\u001b[0;32m     56\u001b[0m \u001b[38;5;28;01mtry\u001b[39;00m:\n\u001b[1;32m---> 57\u001b[0m     \u001b[38;5;28;01mreturn\u001b[39;00m \u001b[43mbound\u001b[49m\u001b[43m(\u001b[49m\u001b[38;5;241;43m*\u001b[39;49m\u001b[43margs\u001b[49m\u001b[43m,\u001b[49m\u001b[43m \u001b[49m\u001b[38;5;241;43m*\u001b[39;49m\u001b[38;5;241;43m*\u001b[39;49m\u001b[43mkwds\u001b[49m\u001b[43m)\u001b[49m\n\u001b[0;32m     58\u001b[0m \u001b[38;5;28;01mexcept\u001b[39;00m \u001b[38;5;167;01mTypeError\u001b[39;00m:\n\u001b[0;32m     59\u001b[0m     \u001b[38;5;66;03m# A TypeError occurs if the object does have such a method in its\u001b[39;00m\n\u001b[0;32m     60\u001b[0m     \u001b[38;5;66;03m# class, but its signature is not identical to that of NumPy's. This\u001b[39;00m\n\u001b[1;32m   (...)\u001b[0m\n\u001b[0;32m     64\u001b[0m     \u001b[38;5;66;03m# Call _wrapit from within the except clause to ensure a potential\u001b[39;00m\n\u001b[0;32m     65\u001b[0m     \u001b[38;5;66;03m# exception has a traceback chain.\u001b[39;00m\n\u001b[0;32m     66\u001b[0m     \u001b[38;5;28;01mreturn\u001b[39;00m _wrapit(obj, method, \u001b[38;5;241m*\u001b[39margs, \u001b[38;5;241m*\u001b[39m\u001b[38;5;241m*\u001b[39mkwds)\n",
      "\u001b[1;31mAxisError\u001b[0m: axis 1 is out of bounds for array of dimension 1"
     ]
    }
   ],
   "source": [
    "result = predict(train_X[0],W,b)\n",
    "print(result)\n",
    "print(f'Training Accuracy: {accuracy_score(np.argmax(train_Y[0]), result) * 100:.2f}%')"
   ]
  }
 ],
 "metadata": {
  "kernelspec": {
   "display_name": "Python 3",
   "language": "python",
   "name": "python3"
  },
  "language_info": {
   "codemirror_mode": {
    "name": "ipython",
    "version": 3
   },
   "file_extension": ".py",
   "mimetype": "text/x-python",
   "name": "python",
   "nbconvert_exporter": "python",
   "pygments_lexer": "ipython3",
   "version": "3.12.7"
  }
 },
 "nbformat": 4,
 "nbformat_minor": 2
}
